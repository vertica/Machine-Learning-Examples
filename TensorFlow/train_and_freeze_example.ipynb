{
 "cells": [
  {
   "cell_type": "code",
   "execution_count": null,
   "id": "1b34b7d9-a5d4-4820-8db7-815c39a6b8c6",
   "metadata": {},
   "outputs": [],
   "source": [
    "#!/usr/bin/env python3\n",
    "\n",
    "import numpy as np\n",
    "import os\n",
    "\n",
    "import tensorflow as tf\n",
    "from tensorflow import keras\n",
    "from tensorflow.keras import layers\n",
    "from tensorflow.keras.utils import to_categorical\n",
    "\n",
    "from load_mnist import load_mnist\n",
    "\n",
    "import freeze_tf2_model"
   ]
  },
  {
   "cell_type": "code",
   "execution_count": null,
   "id": "bd44fbdb-00cb-4842-ae9a-67d3e9b7b05a",
   "metadata": {},
   "outputs": [],
   "source": [
    "# remove if you have a GPU/CUDA\n",
    "os.environ[\"CUDA_VISIBLE_DEVICES\"] = \"-1\"\n",
    "\n",
    "print (\"Numpy version:     \", np.__version__)\n",
    "print (\"TensorFlow version:\", tf.__version__)"
   ]
  },
  {
   "cell_type": "code",
   "execution_count": null,
   "id": "886a429f-93d4-4243-a5ba-e00577ebf684",
   "metadata": {},
   "outputs": [],
   "source": [
    "#---------------------------------------------------------------------------------\n",
    "#  Load and pre-process MNIST dataset\n",
    "#---------------------------------------------------------------------------------\n",
    "batch_size      = 100\n",
    "epochs          = 5\n",
    "num_test_images = 10\n",
    "tftype = tf.float32\n",
    "nptype = np.float32\n",
    "\n",
    "(train_eval_data, train_eval_labels), (test_data, test_labels) = load_mnist(datatype=nptype)\n",
    "\n",
    "train_eval_labels = np.asarray (train_eval_labels, dtype=nptype)\n",
    "train_eval_labels = to_categorical (train_eval_labels)\n",
    "\n",
    "test_labels = np.asarray (test_labels,  dtype=nptype)\n",
    "test_labels = to_categorical (test_labels)\n",
    "\n",
    "#  Split the training data into two parts, training and evaluation\n",
    "data_split   = np.split (train_eval_data,   [55000])\n",
    "labels_split = np.split (train_eval_labels, [55000])\n",
    "\n",
    "train_data   = data_split [0]\n",
    "train_labels = labels_split [0]\n",
    "\n",
    "eval_data    = data_split [1]\n",
    "eval_labels  = labels_split [1]\n",
    "\n",
    "print ('Size of train_data: ', train_data.shape [0])\n",
    "print ('Size of eval_data: ',  eval_data.shape [0])\n",
    "print ('Size of test_data: ',  test_data.shape [0])\n",
    "\n",
    "train_data = train_data.reshape ((55000, 28,28,1))\n",
    "eval_data  = eval_data.reshape  ((5000,  28,28,1))\n",
    "test_data  = test_data.reshape  ((10000, 28,28,1))\n",
    "\n",
    "test_data   = test_data [:num_test_images]\n",
    "test_labels = test_labels [:num_test_images]"
   ]
  },
  {
   "cell_type": "code",
   "execution_count": null,
   "id": "4a9ac9b2-5e59-4565-8a46-4d860ab152d7",
   "metadata": {},
   "outputs": [],
   "source": [
    "#---------------------------------------------------------------------------------\n",
    "#  Create and train model\n",
    "#---------------------------------------------------------------------------------\n",
    "inputs = keras.Input(shape=(28, 28, 1), name=\"image\")\n",
    "x = layers.Conv2D(32, 5, activation=\"relu\")(inputs)\n",
    "x = layers.MaxPooling2D(2)(x)\n",
    "x = layers.Conv2D(64, 5, activation=\"relu\")(x)\n",
    "x = layers.MaxPooling2D(2)(x)\n",
    "x = layers.Flatten()(x)\n",
    "x = layers.Dense(10, activation='softmax', name='OUTPUT')(x)\n",
    "tfmodel = keras.Model(inputs, x)\n",
    "\n",
    "tfmodel.compile (loss='categorical_crossentropy',\n",
    "                 optimizer='sgd',\n",
    "                 metrics=['accuracy'])\n",
    "\n",
    "tfmodel.fit (train_data, train_labels,\n",
    "             batch_size = batch_size,\n",
    "             epochs = epochs,\n",
    "             verbose = 1\n",
    "            )\n",
    "\n",
    "tfmodel.summary ()"
   ]
  },
  {
   "cell_type": "code",
   "execution_count": null,
   "id": "bac65d8d-314e-412c-bf4f-ec41547031e2",
   "metadata": {},
   "outputs": [],
   "source": [
    "#---------------------------------------------------------------------------------\n",
    "#  Evaluate Model\n",
    "#---------------------------------------------------------------------------------\n",
    "loss, acc = tfmodel.evaluate(eval_data, eval_labels)\n",
    "print ('Loss: ', loss, '  Accuracy: ', acc)"
   ]
  },
  {
   "cell_type": "code",
   "execution_count": null,
   "id": "4130f0b2-152b-4d3d-9272-9ec1ca432caf",
   "metadata": {},
   "outputs": [],
   "source": [
    "#-------------------------------------------------------------------------\n",
    "#   Freeze and save the model\n",
    "#-------------------------------------------------------------------------\n",
    "# The model will be saved to my_frozen_model/ and will input/output primitive Vertica columns\n",
    "freeze_tf2_model.freeze_model(tfmodel, './my_frozen_model', '0')"
   ]
  }
 ],
 "metadata": {
  "kernelspec": {
   "display_name": "Python 3 (ipykernel)",
   "language": "python",
   "name": "python3"
  },
  "language_info": {
   "codemirror_mode": {
    "name": "ipython",
    "version": 3
   },
   "file_extension": ".py",
   "mimetype": "text/x-python",
   "name": "python",
   "nbconvert_exporter": "python",
   "pygments_lexer": "ipython3",
   "version": "3.10.12"
  }
 },
 "nbformat": 4,
 "nbformat_minor": 5
}
