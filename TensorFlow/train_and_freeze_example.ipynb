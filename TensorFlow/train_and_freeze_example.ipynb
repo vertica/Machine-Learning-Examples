{
 "cells": [
  {
   "cell_type": "code",
   "execution_count": 1,
   "id": "1b34b7d9-a5d4-4820-8db7-815c39a6b8c6",
   "metadata": {},
   "outputs": [
    {
     "name": "stderr",
     "output_type": "stream",
     "text": [
      "2023-11-14 16:07:13.745032: I tensorflow/tsl/cuda/cudart_stub.cc:28] Could not find cuda drivers on your machine, GPU will not be used.\n",
      "2023-11-14 16:07:13.795690: E tensorflow/compiler/xla/stream_executor/cuda/cuda_dnn.cc:9342] Unable to register cuDNN factory: Attempting to register factory for plugin cuDNN when one has already been registered\n",
      "2023-11-14 16:07:13.795765: E tensorflow/compiler/xla/stream_executor/cuda/cuda_fft.cc:609] Unable to register cuFFT factory: Attempting to register factory for plugin cuFFT when one has already been registered\n",
      "2023-11-14 16:07:13.795845: E tensorflow/compiler/xla/stream_executor/cuda/cuda_blas.cc:1518] Unable to register cuBLAS factory: Attempting to register factory for plugin cuBLAS when one has already been registered\n",
      "2023-11-14 16:07:13.811351: I tensorflow/tsl/cuda/cudart_stub.cc:28] Could not find cuda drivers on your machine, GPU will not be used.\n",
      "2023-11-14 16:07:13.812331: I tensorflow/core/platform/cpu_feature_guard.cc:182] This TensorFlow binary is optimized to use available CPU instructions in performance-critical operations.\n",
      "To enable the following instructions: AVX2 FMA, in other operations, rebuild TensorFlow with the appropriate compiler flags.\n",
      "2023-11-14 16:07:14.949916: W tensorflow/compiler/tf2tensorrt/utils/py_utils.cc:38] TF-TRT Warning: Could not find TensorRT\n",
      "/home/glarionov/Envs/py3/lib/python3.10/site-packages/numpy/core/getlimits.py:542: UserWarning: Signature b'\\x00\\xd0\\xcc\\xcc\\xcc\\xcc\\xcc\\xcc\\xfb\\xbf\\x00\\x00\\x00\\x00\\x00\\x00' for <class 'numpy.longdouble'> does not match any known type: falling back to type probe function.\n",
      "This warnings indicates broken support for the dtype!\n",
      "  machar = _get_machar(dtype)\n"
     ]
    }
   ],
   "source": [
    "#!/usr/bin/env python3\n",
    "\n",
    "import numpy as np\n",
    "import os\n",
    "\n",
    "import tensorflow as tf\n",
    "from tensorflow import keras\n",
    "from tensorflow.keras import layers\n",
    "from tensorflow.keras.utils import to_categorical\n",
    "\n",
    "from load_mnist import load_mnist\n",
    "\n",
    "import freeze_tf2_model"
   ]
  },
  {
   "cell_type": "code",
   "execution_count": 2,
   "id": "bd44fbdb-00cb-4842-ae9a-67d3e9b7b05a",
   "metadata": {},
   "outputs": [
    {
     "name": "stdout",
     "output_type": "stream",
     "text": [
      "Numpy version:      1.26.1\n",
      "TensorFlow version: 2.14.0\n"
     ]
    }
   ],
   "source": [
    "# remove if you have a GPU/CUDA\n",
    "os.environ[\"CUDA_VISIBLE_DEVICES\"] = \"-1\"\n",
    "\n",
    "print (\"Numpy version:     \", np.__version__)\n",
    "print (\"TensorFlow version:\", tf.__version__)"
   ]
  },
  {
   "cell_type": "code",
   "execution_count": 3,
   "id": "886a429f-93d4-4243-a5ba-e00577ebf684",
   "metadata": {},
   "outputs": [
    {
     "name": "stdout",
     "output_type": "stream",
     "text": [
      "Converting train-images-idx3-ubyte.gz to NumPy Array ...\n",
      "Done\n",
      "Converting train-labels-idx1-ubyte.gz to NumPy Array ...\n",
      "Done\n",
      "Converting t10k-images-idx3-ubyte.gz to NumPy Array ...\n",
      "Done\n",
      "Converting t10k-labels-idx1-ubyte.gz to NumPy Array ...\n",
      "Done\n",
      "Size of train_data:  55000\n",
      "Size of eval_data:  5000\n",
      "Size of test_data:  10000\n"
     ]
    }
   ],
   "source": [
    "#---------------------------------------------------------------------------------\n",
    "#  Load and pre-process MNIST dataset\n",
    "#---------------------------------------------------------------------------------\n",
    "batch_size      = 100\n",
    "epochs          = 5\n",
    "num_test_images = 10\n",
    "tftype = tf.float32\n",
    "nptype = np.float32\n",
    "\n",
    "(train_eval_data, train_eval_labels), (test_data, test_labels) = load_mnist(datatype=nptype)\n",
    "\n",
    "train_eval_labels = np.asarray (train_eval_labels, dtype=nptype)\n",
    "train_eval_labels = to_categorical (train_eval_labels)\n",
    "\n",
    "test_labels = np.asarray (test_labels,  dtype=nptype)\n",
    "test_labels = to_categorical (test_labels)\n",
    "\n",
    "#  Split the training data into two parts, training and evaluation\n",
    "data_split   = np.split (train_eval_data,   [55000])\n",
    "labels_split = np.split (train_eval_labels, [55000])\n",
    "\n",
    "train_data   = data_split [0]\n",
    "train_labels = labels_split [0]\n",
    "\n",
    "eval_data    = data_split [1]\n",
    "eval_labels  = labels_split [1]\n",
    "\n",
    "print ('Size of train_data: ', train_data.shape [0])\n",
    "print ('Size of eval_data: ',  eval_data.shape [0])\n",
    "print ('Size of test_data: ',  test_data.shape [0])\n",
    "\n",
    "train_data = train_data.reshape ((55000, 28,28,1))\n",
    "eval_data  = eval_data.reshape  ((5000,  28,28,1))\n",
    "test_data  = test_data.reshape  ((10000, 28,28,1))\n",
    "\n",
    "test_data   = test_data [:num_test_images]\n",
    "test_labels = test_labels [:num_test_images]"
   ]
  },
  {
   "cell_type": "code",
   "execution_count": 4,
   "id": "4a9ac9b2-5e59-4565-8a46-4d860ab152d7",
   "metadata": {},
   "outputs": [
    {
     "name": "stdout",
     "output_type": "stream",
     "text": [
      "Epoch 1/5\n",
      "550/550 [==============================] - 14s 25ms/step - loss: 0.9741 - accuracy: 0.7503\n",
      "Epoch 2/5\n",
      "550/550 [==============================] - 12s 22ms/step - loss: 0.2741 - accuracy: 0.9204\n",
      "Epoch 3/5\n",
      "550/550 [==============================] - 11s 20ms/step - loss: 0.1992 - accuracy: 0.9420\n",
      "Epoch 4/5\n",
      "550/550 [==============================] - 13s 23ms/step - loss: 0.1589 - accuracy: 0.9538\n",
      "Epoch 5/5\n",
      "550/550 [==============================] - 12s 22ms/step - loss: 0.1345 - accuracy: 0.9604\n",
      "Model: \"model\"\n",
      "_________________________________________________________________\n",
      " Layer (type)                Output Shape              Param #   \n",
      "=================================================================\n",
      " image (InputLayer)          [(None, 28, 28, 1)]       0         \n",
      "                                                                 \n",
      " conv2d (Conv2D)             (None, 24, 24, 32)        832       \n",
      "                                                                 \n",
      " max_pooling2d (MaxPooling2  (None, 12, 12, 32)        0         \n",
      " D)                                                              \n",
      "                                                                 \n",
      " conv2d_1 (Conv2D)           (None, 8, 8, 64)          51264     \n",
      "                                                                 \n",
      " max_pooling2d_1 (MaxPoolin  (None, 4, 4, 64)          0         \n",
      " g2D)                                                            \n",
      "                                                                 \n",
      " flatten (Flatten)           (None, 1024)              0         \n",
      "                                                                 \n",
      " OUTPUT (Dense)              (None, 10)                10250     \n",
      "                                                                 \n",
      "=================================================================\n",
      "Total params: 62346 (243.54 KB)\n",
      "Trainable params: 62346 (243.54 KB)\n",
      "Non-trainable params: 0 (0.00 Byte)\n",
      "_________________________________________________________________\n"
     ]
    }
   ],
   "source": [
    "#---------------------------------------------------------------------------------\n",
    "#  Create and train model\n",
    "#---------------------------------------------------------------------------------\n",
    "inputs = keras.Input(shape=(28, 28, 1), name=\"image\")\n",
    "x = layers.Conv2D(32, 5, activation=\"relu\")(inputs)\n",
    "x = layers.MaxPooling2D(2)(x)\n",
    "x = layers.Conv2D(64, 5, activation=\"relu\")(x)\n",
    "x = layers.MaxPooling2D(2)(x)\n",
    "x = layers.Flatten()(x)\n",
    "x = layers.Dense(10, activation='softmax', name='OUTPUT')(x)\n",
    "tfmodel = keras.Model(inputs, x)\n",
    "\n",
    "tfmodel.compile (loss='categorical_crossentropy',\n",
    "                 optimizer='sgd',\n",
    "                 metrics=['accuracy'])\n",
    "\n",
    "tfmodel.fit (train_data, train_labels,\n",
    "             batch_size = batch_size,\n",
    "             epochs = epochs,\n",
    "             verbose = 1\n",
    "            )\n",
    "\n",
    "tfmodel.summary ()"
   ]
  },
  {
   "cell_type": "code",
   "execution_count": 5,
   "id": "bac65d8d-314e-412c-bf4f-ec41547031e2",
   "metadata": {},
   "outputs": [
    {
     "name": "stdout",
     "output_type": "stream",
     "text": [
      "157/157 [==============================] - 1s 3ms/step - loss: 0.0978 - accuracy: 0.9728\n",
      "Loss:  0.09775587171316147   Accuracy:  0.9728000164031982\n"
     ]
    }
   ],
   "source": [
    "#---------------------------------------------------------------------------------\n",
    "#  Evaluate Model\n",
    "#---------------------------------------------------------------------------------\n",
    "loss, acc = tfmodel.evaluate(eval_data, eval_labels)\n",
    "print ('Loss: ', loss, '  Accuracy: ', acc)"
   ]
  },
  {
   "cell_type": "code",
   "execution_count": 7,
   "id": "4130f0b2-152b-4d3d-9272-9ec1ca432caf",
   "metadata": {},
   "outputs": [
    {
     "name": "stdout",
     "output_type": "stream",
     "text": [
      "Saving frozen model to: ./my_frozen_model1/frozen_graph.pb\n",
      "Saving model description file to: ./my_frozen_model1/tf_model_desc.json\n"
     ]
    },
    {
     "name": "stderr",
     "output_type": "stream",
     "text": [
      "2023-11-14 16:08:20.701612: I tensorflow/core/grappler/devices.cc:66] Number of eligible GPUs (core count >= 8, compute capability >= 0.0): 0\n",
      "2023-11-14 16:08:20.701924: I tensorflow/core/grappler/clusters/single_machine.cc:361] Starting new session\n"
     ]
    }
   ],
   "source": [
    "#-------------------------------------------------------------------------\n",
    "#   Freeze and save the model\n",
    "#-------------------------------------------------------------------------\n",
    "# The model will be saved to my_frozen_model/ and will input/output primitive Vertica columns\n",
    "freeze_tf2_model.freeze_model(tfmodel, './my_frozen_model', '0')"
   ]
  }
 ],
 "metadata": {
  "kernelspec": {
   "display_name": "Python 3 (ipykernel)",
   "language": "python",
   "name": "python3"
  },
  "language_info": {
   "codemirror_mode": {
    "name": "ipython",
    "version": 3
   },
   "file_extension": ".py",
   "mimetype": "text/x-python",
   "name": "python",
   "nbconvert_exporter": "python",
   "pygments_lexer": "ipython3",
   "version": "3.10.12"
  }
 },
 "nbformat": 4,
 "nbformat_minor": 5
}
